{
 "cells": [
  {
   "cell_type": "code",
   "execution_count": null,
   "metadata": {},
   "outputs": [],
   "source": [
    "from app.books.book_repository import load_book, list_books\n",
    "\n",
    "# List all available books\n",
    "available_books = list_books()\n",
    "print(available_books)\n",
    "\n",
    "# Load specific book\n",
    "book = load_book(\"lavar_modular_v1.json\")\n",
    "print(book.title)\n",
    "print(book.author)\n"
   ]
  },
  {
   "cell_type": "code",
   "execution_count": 2,
   "metadata": {},
   "outputs": [
    {
     "ename": "ApiError",
     "evalue": "status_code: 400, body: {'message': \"Couldn't Get Assistant. Need Either `assistant`, `assistantId`, `squad`, Or `squadId`.\", 'error': 'Bad Request', 'statusCode': 400}",
     "output_type": "error",
     "traceback": [
      "\u001b[0;31m---------------------------------------------------------------------------\u001b[0m",
      "\u001b[0;31mApiError\u001b[0m                                  Traceback (most recent call last)",
      "Cell \u001b[0;32mIn[2], line 6\u001b[0m\n\u001b[1;32m      1\u001b[0m \u001b[38;5;28;01mfrom\u001b[39;00m \u001b[38;5;21;01mvapi\u001b[39;00m \u001b[38;5;28;01mimport\u001b[39;00m Vapi\n\u001b[1;32m      3\u001b[0m client \u001b[38;5;241m=\u001b[39m Vapi(\n\u001b[1;32m      4\u001b[0m     token\u001b[38;5;241m=\u001b[39m\u001b[38;5;124m\"\u001b[39m\u001b[38;5;124m00170a87-42d6-4ed4-a31a-2d1e27cc7d62\u001b[39m\u001b[38;5;124m\"\u001b[39m,\n\u001b[1;32m      5\u001b[0m )\n\u001b[0;32m----> 6\u001b[0m \u001b[43mclient\u001b[49m\u001b[38;5;241;43m.\u001b[39;49m\u001b[43mcalls\u001b[49m\u001b[38;5;241;43m.\u001b[39;49m\u001b[43mcreate\u001b[49m\u001b[43m(\u001b[49m\u001b[43m)\u001b[49m\n",
      "File \u001b[0;32m/opt/anaconda3/envs/atomic_user/lib/python3.12/site-packages/vapi/calls/client.py:235\u001b[0m, in \u001b[0;36mCallsClient.create\u001b[0;34m(self, name, assistant_id, assistant, assistant_overrides, squad_id, squad, phone_number_id, phone_number, customer_id, customer, request_options)\u001b[0m\n\u001b[1;32m    233\u001b[0m \u001b[38;5;28;01mexcept\u001b[39;00m JSONDecodeError:\n\u001b[1;32m    234\u001b[0m     \u001b[38;5;28;01mraise\u001b[39;00m ApiError(status_code\u001b[38;5;241m=\u001b[39m_response\u001b[38;5;241m.\u001b[39mstatus_code, body\u001b[38;5;241m=\u001b[39m_response\u001b[38;5;241m.\u001b[39mtext)\n\u001b[0;32m--> 235\u001b[0m \u001b[38;5;28;01mraise\u001b[39;00m ApiError(status_code\u001b[38;5;241m=\u001b[39m_response\u001b[38;5;241m.\u001b[39mstatus_code, body\u001b[38;5;241m=\u001b[39m_response_json)\n",
      "\u001b[0;31mApiError\u001b[0m: status_code: 400, body: {'message': \"Couldn't Get Assistant. Need Either `assistant`, `assistantId`, `squad`, Or `squadId`.\", 'error': 'Bad Request', 'statusCode': 400}"
     ]
    }
   ],
   "source": [
    "from vapi import Vapi\n",
    "\n",
    "client = Vapi(\n",
    "    token=\"00170a87-42d6-4ed4-a31a-2d1e27cc7d62\",\n",
    ")\n",
    "client.calls.create()"
   ]
  },
  {
   "cell_type": "code",
   "execution_count": null,
   "metadata": {},
   "outputs": [],
   "source": [
    "import os\n",
    "from vapi import Vapi\n",
    "from vapi import OpenAiModel, ToolMessageStart, ToolMessageComplete\n",
    "\n",
    "# Initialize VAPI client\n",
    "api_key = os.getenv(\"00170a87-42d6-4ed4-a31a-2d1e27cc7d62\")\n",
    "client = Vapi(token=api_key)\n",
    "\n",
    "# Define transcription tool\n",
    "transcription_tool = {\n",
    "    \"type\": \"custom-transcriber\",\n",
    "    \"server\": {\"url\": \"ws://your-transcription-server.com\"},\n",
    "    \"provider\": \"custom-transcriber\",\n",
    "    \"language\": \"en\",\n",
    "    \"wordBoost\": [\"special_word\"]\n",
    "}\n",
    "\n",
    "# Define the assistant model\n",
    "assistant_model = OpenAiModel(\n",
    "    messages=[{\"role\": \"system\", \"content\": \"You are a helpful assistant.\"}],\n",
    "    provider=\"openai\",\n",
    "    model=\"gpt-4\",\n",
    "    tools=[transcription_tool]\n",
    ")\n",
    "\n",
    "# Example of processing user input\n",
    "def handle_user_input(input_text):\n",
    "    if \"transcribe\" in input_text:\n",
    "        # Handle transcription task\n",
    "        tool_start_message = ToolMessageStart(contents=[{\"type\": \"text\", \"text\": \"Starting transcription...\"}])\n",
    "        tool_complete_message = ToolMessageComplete(contents=[{\"type\": \"text\", \"text\": \"Transcription complete.\"}])\n",
    "        return tool_start_message, tool_complete_message\n",
    "    else:\n",
    "        # Use assistant to respond to other queries\n",
    "        assistant_response = client.assistant.chat_completions.create(model=\"gpt-4\", messages=[{\"role\": \"user\", \"content\": input_text}])\n",
    "        return assistant_response\n",
    "\n",
    "# Flask server for webhook integration\n",
    "from flask import Flask, request, jsonify\n",
    "app = Flask(__name__)\n",
    "\n",
    "@app.route('/webhook', methods=['POST'])\n",
    "def webhook():\n",
    "    data = request.get_json()\n",
    "    # Process incoming data from tools or assistants\n",
    "    return jsonify({\"status\": \"ok\"}), 200\n",
    "\n",
    "if __name__ == '__main__':\n",
    "    app.run(debug=True)\n"
   ]
  },
  {
   "cell_type": "code",
   "execution_count": 10,
   "metadata": {},
   "outputs": [
    {
     "name": "stdout",
     "output_type": "stream",
     "text": [
      " * Serving Flask app '__main__'\n",
      " * Debug mode: on\n"
     ]
    },
    {
     "name": "stderr",
     "output_type": "stream",
     "text": [
      "WARNING: This is a development server. Do not use it in a production deployment. Use a production WSGI server instead.\n",
      " * Running on http://127.0.0.1:5000\n",
      "Press CTRL+C to quit\n",
      " * Restarting with stat\n",
      "0.00s - Debugger warning: It seems that frozen modules are being used, which may\n",
      "0.00s - make the debugger miss breakpoints. Please pass -Xfrozen_modules=off\n",
      "0.00s - to python to disable frozen modules.\n",
      "0.00s - Note: Debugging will proceed. Set PYDEVD_DISABLE_FILE_VALIDATION=1 to disable this validation.\n",
      "Traceback (most recent call last):\n",
      "  File \"<frozen runpy>\", line 198, in _run_module_as_main\n",
      "  File \"<frozen runpy>\", line 88, in _run_code\n",
      "  File \"/opt/anaconda3/envs/atomic_user/lib/python3.12/site-packages/ipykernel_launcher.py\", line 18, in <module>\n",
      "    app.launch_new_instance()\n",
      "  File \"/opt/anaconda3/envs/atomic_user/lib/python3.12/site-packages/traitlets/config/application.py\", line 1074, in launch_instance\n",
      "    app.initialize(argv)\n",
      "  File \"/opt/anaconda3/envs/atomic_user/lib/python3.12/site-packages/traitlets/config/application.py\", line 118, in inner\n",
      "    return method(app, *args, **kwargs)\n",
      "           ^^^^^^^^^^^^^^^^^^^^^^^^^^^^\n",
      "  File \"/opt/anaconda3/envs/atomic_user/lib/python3.12/site-packages/ipykernel/kernelapp.py\", line 692, in initialize\n",
      "    self.init_sockets()\n",
      "  File \"/opt/anaconda3/envs/atomic_user/lib/python3.12/site-packages/ipykernel/kernelapp.py\", line 331, in init_sockets\n",
      "    self.shell_port = self._bind_socket(self.shell_socket, self.shell_port)\n",
      "                      ^^^^^^^^^^^^^^^^^^^^^^^^^^^^^^^^^^^^^^^^^^^^^^^^^^^^^\n",
      "  File \"/opt/anaconda3/envs/atomic_user/lib/python3.12/site-packages/ipykernel/kernelapp.py\", line 253, in _bind_socket\n",
      "    return self._try_bind_socket(s, port)\n",
      "           ^^^^^^^^^^^^^^^^^^^^^^^^^^^^^^\n",
      "  File \"/opt/anaconda3/envs/atomic_user/lib/python3.12/site-packages/ipykernel/kernelapp.py\", line 229, in _try_bind_socket\n",
      "    s.bind(\"tcp://%s:%i\" % (self.ip, port))\n",
      "  File \"/opt/anaconda3/envs/atomic_user/lib/python3.12/site-packages/zmq/sugar/socket.py\", line 302, in bind\n",
      "    super().bind(addr)\n",
      "  File \"zmq/backend/cython/socket.pyx\", line 564, in zmq.backend.cython.socket.Socket.bind\n",
      "  File \"zmq/backend/cython/checkrc.pxd\", line 28, in zmq.backend.cython.checkrc._check_rc\n",
      "zmq.error.ZMQError: Address already in use (addr='tcp://127.0.0.1:9007')\n"
     ]
    },
    {
     "ename": "SystemExit",
     "evalue": "1",
     "output_type": "error",
     "traceback": [
      "An exception has occurred, use %tb to see the full traceback.\n",
      "\u001b[0;31mSystemExit\u001b[0m\u001b[0;31m:\u001b[0m 1\n"
     ]
    },
    {
     "name": "stderr",
     "output_type": "stream",
     "text": [
      "/opt/anaconda3/envs/atomic_user/lib/python3.12/site-packages/IPython/core/interactiveshell.py:3585: UserWarning: To exit: use 'exit', 'quit', or Ctrl-D.\n",
      "  warn(\"To exit: use 'exit', 'quit', or Ctrl-D.\", stacklevel=1)\n"
     ]
    }
   ],
   "source": [
    "import os\n",
    "from vapi import Vapi, OpenAiModel, CreateFunctionToolDto\n",
    "\n",
    "# Initialize VAPI client\n",
    "api_key = os.getenv(\"00170a87-42d6-4ed4-a31a-2d1e27cc7d62\")\n",
    "client = Vapi(token=api_key)\n",
    "\n",
    "# Define transcription tool\n",
    "transcription_tool = CreateFunctionToolDto(\n",
    "    type=\"function\",\n",
    "    function_name=\"custom-transcriber\",\n",
    "    metadata={\"server_url\": \"ws://your-transcription-server.com\", \"language\": \"en\", \"wordBoost\": [\"special_word\"]}\n",
    ")\n",
    "\n",
    "# Define the assistant model\n",
    "assistant_model = OpenAiModel(\n",
    "    assistant_id=\"9528ee66-fd66-4186-8cd2-ba2124861861\",  # Provide an assistant ID if you have an existing one\n",
    "    messages=[{\"role\": \"system\", \"content\": \"You are a helpful assistant.\"}],\n",
    "    provider=\"openai\",\n",
    "    model=\"gpt-4\",\n",
    "    tools=[transcription_tool]\n",
    ")\n",
    "\n",
    "# Example of processing user input\n",
    "def handle_user_input(input_text):\n",
    "    if \"transcribe\" in input_text:\n",
    "        # Handle transcription task\n",
    "        return transcription_tool  # Return the transcription tool or custom response\n",
    "    else:\n",
    "        # Use assistant to respond to other queries\n",
    "        assistant_response = client.assistant.chat_completions.create(\n",
    "            model=\"gpt-4\", \n",
    "            messages=[{\"role\": \"user\", \"content\": input_text}]\n",
    "        )\n",
    "        return assistant_response\n",
    "\n",
    "# Flask server for webhook integration\n",
    "from flask import Flask, request, jsonify\n",
    "app = Flask(__name__)\n",
    "\n",
    "@app.route('/webhook', methods=['POST'])\n",
    "def webhook():\n",
    "    data = request.get_json()\n",
    "    # Process incoming data from tools or assistants\n",
    "    return jsonify({\"status\": \"ok\"}), 200\n",
    "\n",
    "if __name__ == '__main__':\n",
    "    app.run(debug=True)\n"
   ]
  },
  {
   "cell_type": "code",
   "execution_count": 36,
   "metadata": {},
   "outputs": [],
   "source": [
    "import os\n",
    "from vapi import Vapi, OpenAiModel, CreateFunctionToolDto\n",
    "\n",
    "# Initialize VAPI client\n",
    "# Initialize VAPI client\n",
    "api_key = os.getenv(\"00170a87-42d6-4ed4-a31a-2d1e27cc7d62\")\n",
    "client = Vapi(token=api_key)\n",
    "\n",
    "\n",
    "# Define the transcription tool (optional, if you want to use transcription)\n",
    "transcription_tool = CreateFunctionToolDto(\n",
    "    type=\"function\",\n",
    "    function_name=\"custom-transcriber\",  # Define a function for the transcription tool\n",
    "    metadata={\"server_url\": \"ws://your-transcription-server.com\", \"language\": \"en\", \"wordBoost\": [\"special_word\"]}\n",
    ")\n",
    "\n",
    "# Define the assistant model\n",
    "assistant_model = OpenAiModel(\n",
    "    assistant_id=\"your_assistant_id_here\",  # You need to provide an existing assistant ID\n",
    "    messages=[{\"role\": \"system\", \"content\": \"You are a helpful assistant.\"}],\n",
    "    provider=\"openai\",\n",
    "    model=\"gpt-4\",\n",
    "    tools=[transcription_tool]  # Use this tool if needed\n",
    ")"
   ]
  },
  {
   "cell_type": "code",
   "execution_count": 41,
   "metadata": {},
   "outputs": [
    {
     "ename": "ValueError",
     "evalue": "[TypeError(\"'_abc._abc_data' object is not iterable\"), TypeError('vars() argument must have __dict__ attribute')]",
     "output_type": "error",
     "traceback": [
      "\u001b[0;31m---------------------------------------------------------------------------\u001b[0m",
      "\u001b[0;31mTypeError\u001b[0m                                 Traceback (most recent call last)",
      "File \u001b[0;32m/opt/anaconda3/envs/atomic_user/lib/python3.12/site-packages/vapi/core/jsonable_encoder.py:90\u001b[0m, in \u001b[0;36mjsonable_encoder.<locals>.fallback_serializer\u001b[0;34m(o)\u001b[0m\n\u001b[1;32m     89\u001b[0m \u001b[38;5;28;01mtry\u001b[39;00m:\n\u001b[0;32m---> 90\u001b[0m     data \u001b[38;5;241m=\u001b[39m \u001b[38;5;28;43mdict\u001b[39;49m\u001b[43m(\u001b[49m\u001b[43mo\u001b[49m\u001b[43m)\u001b[49m\n\u001b[1;32m     91\u001b[0m \u001b[38;5;28;01mexcept\u001b[39;00m \u001b[38;5;167;01mException\u001b[39;00m \u001b[38;5;28;01mas\u001b[39;00m e:\n",
      "\u001b[0;31mTypeError\u001b[0m: '_abc._abc_data' object is not iterable",
      "\nDuring handling of the above exception, another exception occurred:\n",
      "\u001b[0;31mTypeError\u001b[0m                                 Traceback (most recent call last)",
      "File \u001b[0;32m/opt/anaconda3/envs/atomic_user/lib/python3.12/site-packages/vapi/core/jsonable_encoder.py:95\u001b[0m, in \u001b[0;36mjsonable_encoder.<locals>.fallback_serializer\u001b[0;34m(o)\u001b[0m\n\u001b[1;32m     94\u001b[0m \u001b[38;5;28;01mtry\u001b[39;00m:\n\u001b[0;32m---> 95\u001b[0m     data \u001b[38;5;241m=\u001b[39m \u001b[38;5;28;43mvars\u001b[39;49m\u001b[43m(\u001b[49m\u001b[43mo\u001b[49m\u001b[43m)\u001b[49m\n\u001b[1;32m     96\u001b[0m \u001b[38;5;28;01mexcept\u001b[39;00m \u001b[38;5;167;01mException\u001b[39;00m \u001b[38;5;28;01mas\u001b[39;00m e:\n",
      "\u001b[0;31mTypeError\u001b[0m: vars() argument must have __dict__ attribute",
      "\nThe above exception was the direct cause of the following exception:\n",
      "\u001b[0;31mValueError\u001b[0m                                Traceback (most recent call last)",
      "Cell \u001b[0;32mIn[41], line 8\u001b[0m\n\u001b[1;32m      4\u001b[0m api_key \u001b[38;5;241m=\u001b[39m os\u001b[38;5;241m.\u001b[39mgetenv(\u001b[38;5;124m\"\u001b[39m\u001b[38;5;124m00170a87-42d6-4ed4-a31a-2d1e27cc7d62\u001b[39m\u001b[38;5;124m\"\u001b[39m)\n\u001b[1;32m      5\u001b[0m client \u001b[38;5;241m=\u001b[39m Vapi(token\u001b[38;5;241m=\u001b[39mapi_key)\n\u001b[0;32m----> 8\u001b[0m \u001b[43mclient\u001b[49m\u001b[38;5;241;43m.\u001b[39;49m\u001b[43mcalls\u001b[49m\u001b[38;5;241;43m.\u001b[39;49m\u001b[43mcreate\u001b[49m\u001b[43m(\u001b[49m\u001b[43massistant\u001b[49m\u001b[38;5;241;43m=\u001b[39;49m\u001b[43mCreateAssistantDto\u001b[49m\u001b[43m)\u001b[49m\n",
      "File \u001b[0;32m/opt/anaconda3/envs/atomic_user/lib/python3.12/site-packages/vapi/calls/client.py:192\u001b[0m, in \u001b[0;36mCallsClient.create\u001b[0;34m(self, name, assistant_id, assistant, assistant_overrides, squad_id, squad, phone_number_id, phone_number, customer_id, customer, request_options)\u001b[0m\n\u001b[1;32m    128\u001b[0m \u001b[38;5;28;01mdef\u001b[39;00m \u001b[38;5;21mcreate\u001b[39m(\n\u001b[1;32m    129\u001b[0m     \u001b[38;5;28mself\u001b[39m,\n\u001b[1;32m    130\u001b[0m     \u001b[38;5;241m*\u001b[39m,\n\u001b[0;32m   (...)\u001b[0m\n\u001b[1;32m    141\u001b[0m     request_options: typing\u001b[38;5;241m.\u001b[39mOptional[RequestOptions] \u001b[38;5;241m=\u001b[39m \u001b[38;5;28;01mNone\u001b[39;00m,\n\u001b[1;32m    142\u001b[0m ) \u001b[38;5;241m-\u001b[39m\u001b[38;5;241m>\u001b[39m Call:\n\u001b[1;32m    143\u001b[0m \u001b[38;5;250m    \u001b[39m\u001b[38;5;124;03m\"\"\"\u001b[39;00m\n\u001b[1;32m    144\u001b[0m \u001b[38;5;124;03m    Parameters\u001b[39;00m\n\u001b[1;32m    145\u001b[0m \u001b[38;5;124;03m    ----------\u001b[39;00m\n\u001b[0;32m   (...)\u001b[0m\n\u001b[1;32m    190\u001b[0m \n\u001b[1;32m    191\u001b[0m \u001b[38;5;124;03m    \"\"\"\u001b[39;00m\n\u001b[0;32m--> 192\u001b[0m     _response \u001b[38;5;241m=\u001b[39m \u001b[38;5;28;43mself\u001b[39;49m\u001b[38;5;241;43m.\u001b[39;49m\u001b[43m_client_wrapper\u001b[49m\u001b[38;5;241;43m.\u001b[39;49m\u001b[43mhttpx_client\u001b[49m\u001b[38;5;241;43m.\u001b[39;49m\u001b[43mrequest\u001b[49m\u001b[43m(\u001b[49m\n\u001b[1;32m    193\u001b[0m \u001b[43m        \u001b[49m\u001b[38;5;124;43m\"\u001b[39;49m\u001b[38;5;124;43mcall\u001b[39;49m\u001b[38;5;124;43m\"\u001b[39;49m\u001b[43m,\u001b[49m\n\u001b[1;32m    194\u001b[0m \u001b[43m        \u001b[49m\u001b[43mmethod\u001b[49m\u001b[38;5;241;43m=\u001b[39;49m\u001b[38;5;124;43m\"\u001b[39;49m\u001b[38;5;124;43mPOST\u001b[39;49m\u001b[38;5;124;43m\"\u001b[39;49m\u001b[43m,\u001b[49m\n\u001b[1;32m    195\u001b[0m \u001b[43m        \u001b[49m\u001b[43mjson\u001b[49m\u001b[38;5;241;43m=\u001b[39;49m\u001b[43m{\u001b[49m\n\u001b[1;32m    196\u001b[0m \u001b[43m            \u001b[49m\u001b[38;5;124;43m\"\u001b[39;49m\u001b[38;5;124;43mname\u001b[39;49m\u001b[38;5;124;43m\"\u001b[39;49m\u001b[43m:\u001b[49m\u001b[43m \u001b[49m\u001b[43mname\u001b[49m\u001b[43m,\u001b[49m\n\u001b[1;32m    197\u001b[0m \u001b[43m            \u001b[49m\u001b[38;5;124;43m\"\u001b[39;49m\u001b[38;5;124;43massistantId\u001b[39;49m\u001b[38;5;124;43m\"\u001b[39;49m\u001b[43m:\u001b[49m\u001b[43m \u001b[49m\u001b[43massistant_id\u001b[49m\u001b[43m,\u001b[49m\n\u001b[1;32m    198\u001b[0m \u001b[43m            \u001b[49m\u001b[38;5;124;43m\"\u001b[39;49m\u001b[38;5;124;43massistant\u001b[39;49m\u001b[38;5;124;43m\"\u001b[39;49m\u001b[43m:\u001b[49m\u001b[43m \u001b[49m\u001b[43mconvert_and_respect_annotation_metadata\u001b[49m\u001b[43m(\u001b[49m\n\u001b[1;32m    199\u001b[0m \u001b[43m                \u001b[49m\u001b[43mobject_\u001b[49m\u001b[38;5;241;43m=\u001b[39;49m\u001b[43massistant\u001b[49m\u001b[43m,\u001b[49m\u001b[43m \u001b[49m\u001b[43mannotation\u001b[49m\u001b[38;5;241;43m=\u001b[39;49m\u001b[43mCreateAssistantDto\u001b[49m\u001b[43m,\u001b[49m\u001b[43m \u001b[49m\u001b[43mdirection\u001b[49m\u001b[38;5;241;43m=\u001b[39;49m\u001b[38;5;124;43m\"\u001b[39;49m\u001b[38;5;124;43mwrite\u001b[39;49m\u001b[38;5;124;43m\"\u001b[39;49m\n\u001b[1;32m    200\u001b[0m \u001b[43m            \u001b[49m\u001b[43m)\u001b[49m\u001b[43m,\u001b[49m\n\u001b[1;32m    201\u001b[0m \u001b[43m            \u001b[49m\u001b[38;5;124;43m\"\u001b[39;49m\u001b[38;5;124;43massistantOverrides\u001b[39;49m\u001b[38;5;124;43m\"\u001b[39;49m\u001b[43m:\u001b[49m\u001b[43m \u001b[49m\u001b[43mconvert_and_respect_annotation_metadata\u001b[49m\u001b[43m(\u001b[49m\n\u001b[1;32m    202\u001b[0m \u001b[43m                \u001b[49m\u001b[43mobject_\u001b[49m\u001b[38;5;241;43m=\u001b[39;49m\u001b[43massistant_overrides\u001b[49m\u001b[43m,\u001b[49m\u001b[43m \u001b[49m\u001b[43mannotation\u001b[49m\u001b[38;5;241;43m=\u001b[39;49m\u001b[43mAssistantOverrides\u001b[49m\u001b[43m,\u001b[49m\u001b[43m \u001b[49m\u001b[43mdirection\u001b[49m\u001b[38;5;241;43m=\u001b[39;49m\u001b[38;5;124;43m\"\u001b[39;49m\u001b[38;5;124;43mwrite\u001b[39;49m\u001b[38;5;124;43m\"\u001b[39;49m\n\u001b[1;32m    203\u001b[0m \u001b[43m            \u001b[49m\u001b[43m)\u001b[49m\u001b[43m,\u001b[49m\n\u001b[1;32m    204\u001b[0m \u001b[43m            \u001b[49m\u001b[38;5;124;43m\"\u001b[39;49m\u001b[38;5;124;43msquadId\u001b[39;49m\u001b[38;5;124;43m\"\u001b[39;49m\u001b[43m:\u001b[49m\u001b[43m \u001b[49m\u001b[43msquad_id\u001b[49m\u001b[43m,\u001b[49m\n\u001b[1;32m    205\u001b[0m \u001b[43m            \u001b[49m\u001b[38;5;124;43m\"\u001b[39;49m\u001b[38;5;124;43msquad\u001b[39;49m\u001b[38;5;124;43m\"\u001b[39;49m\u001b[43m:\u001b[49m\u001b[43m \u001b[49m\u001b[43mconvert_and_respect_annotation_metadata\u001b[49m\u001b[43m(\u001b[49m\n\u001b[1;32m    206\u001b[0m \u001b[43m                \u001b[49m\u001b[43mobject_\u001b[49m\u001b[38;5;241;43m=\u001b[39;49m\u001b[43msquad\u001b[49m\u001b[43m,\u001b[49m\u001b[43m \u001b[49m\u001b[43mannotation\u001b[49m\u001b[38;5;241;43m=\u001b[39;49m\u001b[43mCreateSquadDto\u001b[49m\u001b[43m,\u001b[49m\u001b[43m \u001b[49m\u001b[43mdirection\u001b[49m\u001b[38;5;241;43m=\u001b[39;49m\u001b[38;5;124;43m\"\u001b[39;49m\u001b[38;5;124;43mwrite\u001b[39;49m\u001b[38;5;124;43m\"\u001b[39;49m\n\u001b[1;32m    207\u001b[0m \u001b[43m            \u001b[49m\u001b[43m)\u001b[49m\u001b[43m,\u001b[49m\n\u001b[1;32m    208\u001b[0m \u001b[43m            \u001b[49m\u001b[38;5;124;43m\"\u001b[39;49m\u001b[38;5;124;43mphoneNumberId\u001b[39;49m\u001b[38;5;124;43m\"\u001b[39;49m\u001b[43m:\u001b[49m\u001b[43m \u001b[49m\u001b[43mphone_number_id\u001b[49m\u001b[43m,\u001b[49m\n\u001b[1;32m    209\u001b[0m \u001b[43m            \u001b[49m\u001b[38;5;124;43m\"\u001b[39;49m\u001b[38;5;124;43mphoneNumber\u001b[39;49m\u001b[38;5;124;43m\"\u001b[39;49m\u001b[43m:\u001b[49m\u001b[43m \u001b[49m\u001b[43mconvert_and_respect_annotation_metadata\u001b[49m\u001b[43m(\u001b[49m\n\u001b[1;32m    210\u001b[0m \u001b[43m                \u001b[49m\u001b[43mobject_\u001b[49m\u001b[38;5;241;43m=\u001b[39;49m\u001b[43mphone_number\u001b[49m\u001b[43m,\u001b[49m\u001b[43m \u001b[49m\u001b[43mannotation\u001b[49m\u001b[38;5;241;43m=\u001b[39;49m\u001b[43mImportTwilioPhoneNumberDto\u001b[49m\u001b[43m,\u001b[49m\u001b[43m \u001b[49m\u001b[43mdirection\u001b[49m\u001b[38;5;241;43m=\u001b[39;49m\u001b[38;5;124;43m\"\u001b[39;49m\u001b[38;5;124;43mwrite\u001b[39;49m\u001b[38;5;124;43m\"\u001b[39;49m\n\u001b[1;32m    211\u001b[0m \u001b[43m            \u001b[49m\u001b[43m)\u001b[49m\u001b[43m,\u001b[49m\n\u001b[1;32m    212\u001b[0m \u001b[43m            \u001b[49m\u001b[38;5;124;43m\"\u001b[39;49m\u001b[38;5;124;43mcustomerId\u001b[39;49m\u001b[38;5;124;43m\"\u001b[39;49m\u001b[43m:\u001b[49m\u001b[43m \u001b[49m\u001b[43mcustomer_id\u001b[49m\u001b[43m,\u001b[49m\n\u001b[1;32m    213\u001b[0m \u001b[43m            \u001b[49m\u001b[38;5;124;43m\"\u001b[39;49m\u001b[38;5;124;43mcustomer\u001b[39;49m\u001b[38;5;124;43m\"\u001b[39;49m\u001b[43m:\u001b[49m\u001b[43m \u001b[49m\u001b[43mconvert_and_respect_annotation_metadata\u001b[49m\u001b[43m(\u001b[49m\n\u001b[1;32m    214\u001b[0m \u001b[43m                \u001b[49m\u001b[43mobject_\u001b[49m\u001b[38;5;241;43m=\u001b[39;49m\u001b[43mcustomer\u001b[49m\u001b[43m,\u001b[49m\u001b[43m \u001b[49m\u001b[43mannotation\u001b[49m\u001b[38;5;241;43m=\u001b[39;49m\u001b[43mCreateCustomerDto\u001b[49m\u001b[43m,\u001b[49m\u001b[43m \u001b[49m\u001b[43mdirection\u001b[49m\u001b[38;5;241;43m=\u001b[39;49m\u001b[38;5;124;43m\"\u001b[39;49m\u001b[38;5;124;43mwrite\u001b[39;49m\u001b[38;5;124;43m\"\u001b[39;49m\n\u001b[1;32m    215\u001b[0m \u001b[43m            \u001b[49m\u001b[43m)\u001b[49m\u001b[43m,\u001b[49m\n\u001b[1;32m    216\u001b[0m \u001b[43m        \u001b[49m\u001b[43m}\u001b[49m\u001b[43m,\u001b[49m\n\u001b[1;32m    217\u001b[0m \u001b[43m        \u001b[49m\u001b[43mheaders\u001b[49m\u001b[38;5;241;43m=\u001b[39;49m\u001b[43m{\u001b[49m\n\u001b[1;32m    218\u001b[0m \u001b[43m            \u001b[49m\u001b[38;5;124;43m\"\u001b[39;49m\u001b[38;5;124;43mcontent-type\u001b[39;49m\u001b[38;5;124;43m\"\u001b[39;49m\u001b[43m:\u001b[49m\u001b[43m \u001b[49m\u001b[38;5;124;43m\"\u001b[39;49m\u001b[38;5;124;43mapplication/json\u001b[39;49m\u001b[38;5;124;43m\"\u001b[39;49m\u001b[43m,\u001b[49m\n\u001b[1;32m    219\u001b[0m \u001b[43m        \u001b[49m\u001b[43m}\u001b[49m\u001b[43m,\u001b[49m\n\u001b[1;32m    220\u001b[0m \u001b[43m        \u001b[49m\u001b[43mrequest_options\u001b[49m\u001b[38;5;241;43m=\u001b[39;49m\u001b[43mrequest_options\u001b[49m\u001b[43m,\u001b[49m\n\u001b[1;32m    221\u001b[0m \u001b[43m        \u001b[49m\u001b[43momit\u001b[49m\u001b[38;5;241;43m=\u001b[39;49m\u001b[43mOMIT\u001b[49m\u001b[43m,\u001b[49m\n\u001b[1;32m    222\u001b[0m \u001b[43m    \u001b[49m\u001b[43m)\u001b[49m\n\u001b[1;32m    223\u001b[0m     \u001b[38;5;28;01mtry\u001b[39;00m:\n\u001b[1;32m    224\u001b[0m         \u001b[38;5;28;01mif\u001b[39;00m \u001b[38;5;241m200\u001b[39m \u001b[38;5;241m<\u001b[39m\u001b[38;5;241m=\u001b[39m _response\u001b[38;5;241m.\u001b[39mstatus_code \u001b[38;5;241m<\u001b[39m \u001b[38;5;241m300\u001b[39m:\n",
      "File \u001b[0;32m/opt/anaconda3/envs/atomic_user/lib/python3.12/site-packages/vapi/core/http_client.py:196\u001b[0m, in \u001b[0;36mHttpClient.request\u001b[0;34m(self, path, method, base_url, params, json, data, content, files, headers, request_options, retries, omit)\u001b[0m\n\u001b[1;32m    189\u001b[0m base_url \u001b[38;5;241m=\u001b[39m \u001b[38;5;28mself\u001b[39m\u001b[38;5;241m.\u001b[39mget_base_url(base_url)\n\u001b[1;32m    190\u001b[0m timeout \u001b[38;5;241m=\u001b[39m (\n\u001b[1;32m    191\u001b[0m     request_options\u001b[38;5;241m.\u001b[39mget(\u001b[38;5;124m\"\u001b[39m\u001b[38;5;124mtimeout_in_seconds\u001b[39m\u001b[38;5;124m\"\u001b[39m)\n\u001b[1;32m    192\u001b[0m     \u001b[38;5;28;01mif\u001b[39;00m request_options \u001b[38;5;129;01mis\u001b[39;00m \u001b[38;5;129;01mnot\u001b[39;00m \u001b[38;5;28;01mNone\u001b[39;00m \u001b[38;5;129;01mand\u001b[39;00m request_options\u001b[38;5;241m.\u001b[39mget(\u001b[38;5;124m\"\u001b[39m\u001b[38;5;124mtimeout_in_seconds\u001b[39m\u001b[38;5;124m\"\u001b[39m) \u001b[38;5;129;01mis\u001b[39;00m \u001b[38;5;129;01mnot\u001b[39;00m \u001b[38;5;28;01mNone\u001b[39;00m\n\u001b[1;32m    193\u001b[0m     \u001b[38;5;28;01melse\u001b[39;00m \u001b[38;5;28mself\u001b[39m\u001b[38;5;241m.\u001b[39mbase_timeout()\n\u001b[1;32m    194\u001b[0m )\n\u001b[0;32m--> 196\u001b[0m json_body, data_body \u001b[38;5;241m=\u001b[39m \u001b[43mget_request_body\u001b[49m\u001b[43m(\u001b[49m\u001b[43mjson\u001b[49m\u001b[38;5;241;43m=\u001b[39;49m\u001b[43mjson\u001b[49m\u001b[43m,\u001b[49m\u001b[43m \u001b[49m\u001b[43mdata\u001b[49m\u001b[38;5;241;43m=\u001b[39;49m\u001b[43mdata\u001b[49m\u001b[43m,\u001b[49m\u001b[43m \u001b[49m\u001b[43mrequest_options\u001b[49m\u001b[38;5;241;43m=\u001b[39;49m\u001b[43mrequest_options\u001b[49m\u001b[43m,\u001b[49m\u001b[43m \u001b[49m\u001b[43momit\u001b[49m\u001b[38;5;241;43m=\u001b[39;49m\u001b[43momit\u001b[49m\u001b[43m)\u001b[49m\n\u001b[1;32m    198\u001b[0m response \u001b[38;5;241m=\u001b[39m \u001b[38;5;28mself\u001b[39m\u001b[38;5;241m.\u001b[39mhttpx_client\u001b[38;5;241m.\u001b[39mrequest(\n\u001b[1;32m    199\u001b[0m     method\u001b[38;5;241m=\u001b[39mmethod,\n\u001b[1;32m    200\u001b[0m     url\u001b[38;5;241m=\u001b[39murllib\u001b[38;5;241m.\u001b[39mparse\u001b[38;5;241m.\u001b[39murljoin(\u001b[38;5;124mf\u001b[39m\u001b[38;5;124m\"\u001b[39m\u001b[38;5;132;01m{\u001b[39;00mbase_url\u001b[38;5;132;01m}\u001b[39;00m\u001b[38;5;124m/\u001b[39m\u001b[38;5;124m\"\u001b[39m, path),\n\u001b[0;32m   (...)\u001b[0m\n\u001b[1;32m    235\u001b[0m     timeout\u001b[38;5;241m=\u001b[39mtimeout,\n\u001b[1;32m    236\u001b[0m )\n\u001b[1;32m    238\u001b[0m max_retries: \u001b[38;5;28mint\u001b[39m \u001b[38;5;241m=\u001b[39m request_options\u001b[38;5;241m.\u001b[39mget(\u001b[38;5;124m\"\u001b[39m\u001b[38;5;124mmax_retries\u001b[39m\u001b[38;5;124m\"\u001b[39m, \u001b[38;5;241m0\u001b[39m) \u001b[38;5;28;01mif\u001b[39;00m request_options \u001b[38;5;129;01mis\u001b[39;00m \u001b[38;5;129;01mnot\u001b[39;00m \u001b[38;5;28;01mNone\u001b[39;00m \u001b[38;5;28;01melse\u001b[39;00m \u001b[38;5;241m0\u001b[39m\n",
      "File \u001b[0;32m/opt/anaconda3/envs/atomic_user/lib/python3.12/site-packages/vapi/core/http_client.py:144\u001b[0m, in \u001b[0;36mget_request_body\u001b[0;34m(json, data, request_options, omit)\u001b[0m\n\u001b[1;32m    141\u001b[0m     data_body \u001b[38;5;241m=\u001b[39m maybe_filter_request_body(data, request_options, omit)\n\u001b[1;32m    142\u001b[0m \u001b[38;5;28;01melse\u001b[39;00m:\n\u001b[1;32m    143\u001b[0m     \u001b[38;5;66;03m# If both data and json are None, we send json data in the event extra properties are specified\u001b[39;00m\n\u001b[0;32m--> 144\u001b[0m     json_body \u001b[38;5;241m=\u001b[39m \u001b[43mmaybe_filter_request_body\u001b[49m\u001b[43m(\u001b[49m\u001b[43mjson\u001b[49m\u001b[43m,\u001b[49m\u001b[43m \u001b[49m\u001b[43mrequest_options\u001b[49m\u001b[43m,\u001b[49m\u001b[43m \u001b[49m\u001b[43momit\u001b[49m\u001b[43m)\u001b[49m\n\u001b[1;32m    146\u001b[0m \u001b[38;5;66;03m# If you have an empty JSON body, you should just send None\u001b[39;00m\n\u001b[1;32m    147\u001b[0m \u001b[38;5;28;01mreturn\u001b[39;00m (json_body \u001b[38;5;28;01mif\u001b[39;00m json_body \u001b[38;5;241m!=\u001b[39m {} \u001b[38;5;28;01melse\u001b[39;00m \u001b[38;5;28;01mNone\u001b[39;00m), data_body \u001b[38;5;28;01mif\u001b[39;00m data_body \u001b[38;5;241m!=\u001b[39m {} \u001b[38;5;28;01melse\u001b[39;00m \u001b[38;5;28;01mNone\u001b[39;00m\n",
      "File \u001b[0;32m/opt/anaconda3/envs/atomic_user/lib/python3.12/site-packages/vapi/core/http_client.py:120\u001b[0m, in \u001b[0;36mmaybe_filter_request_body\u001b[0;34m(data, request_options, omit)\u001b[0m\n\u001b[1;32m    117\u001b[0m     data_content \u001b[38;5;241m=\u001b[39m jsonable_encoder(data)\n\u001b[1;32m    118\u001b[0m \u001b[38;5;28;01melse\u001b[39;00m:\n\u001b[1;32m    119\u001b[0m     data_content \u001b[38;5;241m=\u001b[39m {\n\u001b[0;32m--> 120\u001b[0m         \u001b[38;5;241m*\u001b[39m\u001b[38;5;241m*\u001b[39m(\u001b[43mjsonable_encoder\u001b[49m\u001b[43m(\u001b[49m\u001b[43mremove_omit_from_dict\u001b[49m\u001b[43m(\u001b[49m\u001b[43mdata\u001b[49m\u001b[43m,\u001b[49m\u001b[43m \u001b[49m\u001b[43momit\u001b[49m\u001b[43m)\u001b[49m\u001b[43m)\u001b[49m),  \u001b[38;5;66;03m# type: ignore\u001b[39;00m\n\u001b[1;32m    121\u001b[0m         \u001b[38;5;241m*\u001b[39m\u001b[38;5;241m*\u001b[39m(\n\u001b[1;32m    122\u001b[0m             jsonable_encoder(request_options\u001b[38;5;241m.\u001b[39mget(\u001b[38;5;124m\"\u001b[39m\u001b[38;5;124madditional_body_parameters\u001b[39m\u001b[38;5;124m\"\u001b[39m, {})) \u001b[38;5;129;01mor\u001b[39;00m {}\n\u001b[1;32m    123\u001b[0m             \u001b[38;5;28;01mif\u001b[39;00m request_options \u001b[38;5;129;01mis\u001b[39;00m \u001b[38;5;129;01mnot\u001b[39;00m \u001b[38;5;28;01mNone\u001b[39;00m\n\u001b[1;32m    124\u001b[0m             \u001b[38;5;28;01melse\u001b[39;00m {}\n\u001b[1;32m    125\u001b[0m         ),\n\u001b[1;32m    126\u001b[0m     }\n\u001b[1;32m    127\u001b[0m \u001b[38;5;28;01mreturn\u001b[39;00m data_content\n",
      "File \u001b[0;32m/opt/anaconda3/envs/atomic_user/lib/python3.12/site-packages/vapi/core/jsonable_encoder.py:75\u001b[0m, in \u001b[0;36mjsonable_encoder\u001b[0;34m(obj, custom_encoder)\u001b[0m\n\u001b[1;32m     73\u001b[0m     \u001b[38;5;28;01mif\u001b[39;00m key \u001b[38;5;129;01min\u001b[39;00m allowed_keys:\n\u001b[1;32m     74\u001b[0m         encoded_key \u001b[38;5;241m=\u001b[39m jsonable_encoder(key, custom_encoder\u001b[38;5;241m=\u001b[39mcustom_encoder)\n\u001b[0;32m---> 75\u001b[0m         encoded_value \u001b[38;5;241m=\u001b[39m \u001b[43mjsonable_encoder\u001b[49m\u001b[43m(\u001b[49m\u001b[43mvalue\u001b[49m\u001b[43m,\u001b[49m\u001b[43m \u001b[49m\u001b[43mcustom_encoder\u001b[49m\u001b[38;5;241;43m=\u001b[39;49m\u001b[43mcustom_encoder\u001b[49m\u001b[43m)\u001b[49m\n\u001b[1;32m     76\u001b[0m         encoded_dict[encoded_key] \u001b[38;5;241m=\u001b[39m encoded_value\n\u001b[1;32m     77\u001b[0m \u001b[38;5;28;01mreturn\u001b[39;00m encoded_dict\n",
      "File \u001b[0;32m/opt/anaconda3/envs/atomic_user/lib/python3.12/site-packages/vapi/core/jsonable_encoder.py:101\u001b[0m, in \u001b[0;36mjsonable_encoder\u001b[0;34m(obj, custom_encoder)\u001b[0m\n\u001b[1;32m     98\u001b[0m             \u001b[38;5;28;01mraise\u001b[39;00m \u001b[38;5;167;01mValueError\u001b[39;00m(errors) \u001b[38;5;28;01mfrom\u001b[39;00m \u001b[38;5;21;01me\u001b[39;00m\n\u001b[1;32m     99\u001b[0m     \u001b[38;5;28;01mreturn\u001b[39;00m jsonable_encoder(data, custom_encoder\u001b[38;5;241m=\u001b[39mcustom_encoder)\n\u001b[0;32m--> 101\u001b[0m \u001b[38;5;28;01mreturn\u001b[39;00m \u001b[43mto_jsonable_with_fallback\u001b[49m\u001b[43m(\u001b[49m\u001b[43mobj\u001b[49m\u001b[43m,\u001b[49m\u001b[43m \u001b[49m\u001b[43mfallback_serializer\u001b[49m\u001b[43m)\u001b[49m\n",
      "File \u001b[0;32m/opt/anaconda3/envs/atomic_user/lib/python3.12/site-packages/vapi/core/pydantic_utilities.py:74\u001b[0m, in \u001b[0;36mto_jsonable_with_fallback\u001b[0;34m(obj, fallback_serializer)\u001b[0m\n\u001b[1;32m     71\u001b[0m \u001b[38;5;28;01mif\u001b[39;00m IS_PYDANTIC_V2:\n\u001b[1;32m     72\u001b[0m     \u001b[38;5;28;01mfrom\u001b[39;00m \u001b[38;5;21;01mpydantic_core\u001b[39;00m \u001b[38;5;28;01mimport\u001b[39;00m to_jsonable_python\n\u001b[0;32m---> 74\u001b[0m     \u001b[38;5;28;01mreturn\u001b[39;00m \u001b[43mto_jsonable_python\u001b[49m\u001b[43m(\u001b[49m\u001b[43mobj\u001b[49m\u001b[43m,\u001b[49m\u001b[43m \u001b[49m\u001b[43mfallback\u001b[49m\u001b[38;5;241;43m=\u001b[39;49m\u001b[43mfallback_serializer\u001b[49m\u001b[43m)\u001b[49m\n\u001b[1;32m     75\u001b[0m \u001b[38;5;28;01melse\u001b[39;00m:\n\u001b[1;32m     76\u001b[0m     \u001b[38;5;28;01mreturn\u001b[39;00m fallback_serializer(obj)\n",
      "File \u001b[0;32m/opt/anaconda3/envs/atomic_user/lib/python3.12/site-packages/vapi/core/jsonable_encoder.py:99\u001b[0m, in \u001b[0;36mjsonable_encoder.<locals>.fallback_serializer\u001b[0;34m(o)\u001b[0m\n\u001b[1;32m     97\u001b[0m         errors\u001b[38;5;241m.\u001b[39mappend(e)\n\u001b[1;32m     98\u001b[0m         \u001b[38;5;28;01mraise\u001b[39;00m \u001b[38;5;167;01mValueError\u001b[39;00m(errors) \u001b[38;5;28;01mfrom\u001b[39;00m \u001b[38;5;21;01me\u001b[39;00m\n\u001b[0;32m---> 99\u001b[0m \u001b[38;5;28;01mreturn\u001b[39;00m \u001b[43mjsonable_encoder\u001b[49m\u001b[43m(\u001b[49m\u001b[43mdata\u001b[49m\u001b[43m,\u001b[49m\u001b[43m \u001b[49m\u001b[43mcustom_encoder\u001b[49m\u001b[38;5;241;43m=\u001b[39;49m\u001b[43mcustom_encoder\u001b[49m\u001b[43m)\u001b[49m\n",
      "File \u001b[0;32m/opt/anaconda3/envs/atomic_user/lib/python3.12/site-packages/vapi/core/jsonable_encoder.py:101\u001b[0m, in \u001b[0;36mjsonable_encoder\u001b[0;34m(obj, custom_encoder)\u001b[0m\n\u001b[1;32m     98\u001b[0m             \u001b[38;5;28;01mraise\u001b[39;00m \u001b[38;5;167;01mValueError\u001b[39;00m(errors) \u001b[38;5;28;01mfrom\u001b[39;00m \u001b[38;5;21;01me\u001b[39;00m\n\u001b[1;32m     99\u001b[0m     \u001b[38;5;28;01mreturn\u001b[39;00m jsonable_encoder(data, custom_encoder\u001b[38;5;241m=\u001b[39mcustom_encoder)\n\u001b[0;32m--> 101\u001b[0m \u001b[38;5;28;01mreturn\u001b[39;00m \u001b[43mto_jsonable_with_fallback\u001b[49m\u001b[43m(\u001b[49m\u001b[43mobj\u001b[49m\u001b[43m,\u001b[49m\u001b[43m \u001b[49m\u001b[43mfallback_serializer\u001b[49m\u001b[43m)\u001b[49m\n",
      "File \u001b[0;32m/opt/anaconda3/envs/atomic_user/lib/python3.12/site-packages/vapi/core/pydantic_utilities.py:74\u001b[0m, in \u001b[0;36mto_jsonable_with_fallback\u001b[0;34m(obj, fallback_serializer)\u001b[0m\n\u001b[1;32m     71\u001b[0m \u001b[38;5;28;01mif\u001b[39;00m IS_PYDANTIC_V2:\n\u001b[1;32m     72\u001b[0m     \u001b[38;5;28;01mfrom\u001b[39;00m \u001b[38;5;21;01mpydantic_core\u001b[39;00m \u001b[38;5;28;01mimport\u001b[39;00m to_jsonable_python\n\u001b[0;32m---> 74\u001b[0m     \u001b[38;5;28;01mreturn\u001b[39;00m \u001b[43mto_jsonable_python\u001b[49m\u001b[43m(\u001b[49m\u001b[43mobj\u001b[49m\u001b[43m,\u001b[49m\u001b[43m \u001b[49m\u001b[43mfallback\u001b[49m\u001b[38;5;241;43m=\u001b[39;49m\u001b[43mfallback_serializer\u001b[49m\u001b[43m)\u001b[49m\n\u001b[1;32m     75\u001b[0m \u001b[38;5;28;01melse\u001b[39;00m:\n\u001b[1;32m     76\u001b[0m     \u001b[38;5;28;01mreturn\u001b[39;00m fallback_serializer(obj)\n",
      "File \u001b[0;32m/opt/anaconda3/envs/atomic_user/lib/python3.12/site-packages/vapi/core/jsonable_encoder.py:99\u001b[0m, in \u001b[0;36mjsonable_encoder.<locals>.fallback_serializer\u001b[0;34m(o)\u001b[0m\n\u001b[1;32m     97\u001b[0m         errors\u001b[38;5;241m.\u001b[39mappend(e)\n\u001b[1;32m     98\u001b[0m         \u001b[38;5;28;01mraise\u001b[39;00m \u001b[38;5;167;01mValueError\u001b[39;00m(errors) \u001b[38;5;28;01mfrom\u001b[39;00m \u001b[38;5;21;01me\u001b[39;00m\n\u001b[0;32m---> 99\u001b[0m \u001b[38;5;28;01mreturn\u001b[39;00m \u001b[43mjsonable_encoder\u001b[49m\u001b[43m(\u001b[49m\u001b[43mdata\u001b[49m\u001b[43m,\u001b[49m\u001b[43m \u001b[49m\u001b[43mcustom_encoder\u001b[49m\u001b[38;5;241;43m=\u001b[39;49m\u001b[43mcustom_encoder\u001b[49m\u001b[43m)\u001b[49m\n",
      "File \u001b[0;32m/opt/anaconda3/envs/atomic_user/lib/python3.12/site-packages/vapi/core/jsonable_encoder.py:75\u001b[0m, in \u001b[0;36mjsonable_encoder\u001b[0;34m(obj, custom_encoder)\u001b[0m\n\u001b[1;32m     73\u001b[0m     \u001b[38;5;28;01mif\u001b[39;00m key \u001b[38;5;129;01min\u001b[39;00m allowed_keys:\n\u001b[1;32m     74\u001b[0m         encoded_key \u001b[38;5;241m=\u001b[39m jsonable_encoder(key, custom_encoder\u001b[38;5;241m=\u001b[39mcustom_encoder)\n\u001b[0;32m---> 75\u001b[0m         encoded_value \u001b[38;5;241m=\u001b[39m \u001b[43mjsonable_encoder\u001b[49m\u001b[43m(\u001b[49m\u001b[43mvalue\u001b[49m\u001b[43m,\u001b[49m\u001b[43m \u001b[49m\u001b[43mcustom_encoder\u001b[49m\u001b[38;5;241;43m=\u001b[39;49m\u001b[43mcustom_encoder\u001b[49m\u001b[43m)\u001b[49m\n\u001b[1;32m     76\u001b[0m         encoded_dict[encoded_key] \u001b[38;5;241m=\u001b[39m encoded_value\n\u001b[1;32m     77\u001b[0m \u001b[38;5;28;01mreturn\u001b[39;00m encoded_dict\n",
      "File \u001b[0;32m/opt/anaconda3/envs/atomic_user/lib/python3.12/site-packages/vapi/core/jsonable_encoder.py:101\u001b[0m, in \u001b[0;36mjsonable_encoder\u001b[0;34m(obj, custom_encoder)\u001b[0m\n\u001b[1;32m     98\u001b[0m             \u001b[38;5;28;01mraise\u001b[39;00m \u001b[38;5;167;01mValueError\u001b[39;00m(errors) \u001b[38;5;28;01mfrom\u001b[39;00m \u001b[38;5;21;01me\u001b[39;00m\n\u001b[1;32m     99\u001b[0m     \u001b[38;5;28;01mreturn\u001b[39;00m jsonable_encoder(data, custom_encoder\u001b[38;5;241m=\u001b[39mcustom_encoder)\n\u001b[0;32m--> 101\u001b[0m \u001b[38;5;28;01mreturn\u001b[39;00m \u001b[43mto_jsonable_with_fallback\u001b[49m\u001b[43m(\u001b[49m\u001b[43mobj\u001b[49m\u001b[43m,\u001b[49m\u001b[43m \u001b[49m\u001b[43mfallback_serializer\u001b[49m\u001b[43m)\u001b[49m\n",
      "File \u001b[0;32m/opt/anaconda3/envs/atomic_user/lib/python3.12/site-packages/vapi/core/pydantic_utilities.py:74\u001b[0m, in \u001b[0;36mto_jsonable_with_fallback\u001b[0;34m(obj, fallback_serializer)\u001b[0m\n\u001b[1;32m     71\u001b[0m \u001b[38;5;28;01mif\u001b[39;00m IS_PYDANTIC_V2:\n\u001b[1;32m     72\u001b[0m     \u001b[38;5;28;01mfrom\u001b[39;00m \u001b[38;5;21;01mpydantic_core\u001b[39;00m \u001b[38;5;28;01mimport\u001b[39;00m to_jsonable_python\n\u001b[0;32m---> 74\u001b[0m     \u001b[38;5;28;01mreturn\u001b[39;00m \u001b[43mto_jsonable_python\u001b[49m\u001b[43m(\u001b[49m\u001b[43mobj\u001b[49m\u001b[43m,\u001b[49m\u001b[43m \u001b[49m\u001b[43mfallback\u001b[49m\u001b[38;5;241;43m=\u001b[39;49m\u001b[43mfallback_serializer\u001b[49m\u001b[43m)\u001b[49m\n\u001b[1;32m     75\u001b[0m \u001b[38;5;28;01melse\u001b[39;00m:\n\u001b[1;32m     76\u001b[0m     \u001b[38;5;28;01mreturn\u001b[39;00m fallback_serializer(obj)\n",
      "File \u001b[0;32m/opt/anaconda3/envs/atomic_user/lib/python3.12/site-packages/vapi/core/jsonable_encoder.py:98\u001b[0m, in \u001b[0;36mjsonable_encoder.<locals>.fallback_serializer\u001b[0;34m(o)\u001b[0m\n\u001b[1;32m     96\u001b[0m     \u001b[38;5;28;01mexcept\u001b[39;00m \u001b[38;5;167;01mException\u001b[39;00m \u001b[38;5;28;01mas\u001b[39;00m e:\n\u001b[1;32m     97\u001b[0m         errors\u001b[38;5;241m.\u001b[39mappend(e)\n\u001b[0;32m---> 98\u001b[0m         \u001b[38;5;28;01mraise\u001b[39;00m \u001b[38;5;167;01mValueError\u001b[39;00m(errors) \u001b[38;5;28;01mfrom\u001b[39;00m \u001b[38;5;21;01me\u001b[39;00m\n\u001b[1;32m     99\u001b[0m \u001b[38;5;28;01mreturn\u001b[39;00m jsonable_encoder(data, custom_encoder\u001b[38;5;241m=\u001b[39mcustom_encoder)\n",
      "\u001b[0;31mValueError\u001b[0m: [TypeError(\"'_abc._abc_data' object is not iterable\"), TypeError('vars() argument must have __dict__ attribute')]"
     ]
    }
   ],
   "source": [
    "\n",
    "from typing import Optional \n",
    "from vapi import Vapi, OpenAiModel, CreateFunctionToolDto,CreateAssistantDto\n",
    "assistant_transient = CreateAssistantDto\n",
    "api_key = os.getenv(\"00170a87-42d6-4ed4-a31a-2d1e27cc7d62\")\n",
    "client = Vapi(token=api_key)\n",
    "\n",
    "\n",
    "client.calls.create(assistant=CreateAssistantDto)"
   ]
  },
  {
   "cell_type": "code",
   "execution_count": 26,
   "metadata": {},
   "outputs": [
    {
     "ename": "AttributeError",
     "evalue": "'Vapi' object has no attribute 'start'",
     "output_type": "error",
     "traceback": [
      "\u001b[0;31m---------------------------------------------------------------------------\u001b[0m",
      "\u001b[0;31mAttributeError\u001b[0m                            Traceback (most recent call last)",
      "Cell \u001b[0;32mIn[26], line 17\u001b[0m\n\u001b[1;32m      9\u001b[0m assistant_model \u001b[38;5;241m=\u001b[39m OpenAiModel(\n\u001b[1;32m     10\u001b[0m     assistant_id\u001b[38;5;241m=\u001b[39m\u001b[38;5;124m\"\u001b[39m\u001b[38;5;124myour_assistant_id_here\u001b[39m\u001b[38;5;124m\"\u001b[39m,\n\u001b[1;32m     11\u001b[0m     messages\u001b[38;5;241m=\u001b[39m[{\u001b[38;5;124m\"\u001b[39m\u001b[38;5;124mrole\u001b[39m\u001b[38;5;124m\"\u001b[39m: \u001b[38;5;124m\"\u001b[39m\u001b[38;5;124msystem\u001b[39m\u001b[38;5;124m\"\u001b[39m, \u001b[38;5;124m\"\u001b[39m\u001b[38;5;124mcontent\u001b[39m\u001b[38;5;124m\"\u001b[39m: \u001b[38;5;124m\"\u001b[39m\u001b[38;5;124mYou are a helpful assistant.\u001b[39m\u001b[38;5;124m\"\u001b[39m}],\n\u001b[1;32m     12\u001b[0m     provider\u001b[38;5;241m=\u001b[39m\u001b[38;5;124m\"\u001b[39m\u001b[38;5;124mopenai\u001b[39m\u001b[38;5;124m\"\u001b[39m,\n\u001b[1;32m     13\u001b[0m     model\u001b[38;5;241m=\u001b[39m\u001b[38;5;124m\"\u001b[39m\u001b[38;5;124mgpt-4\u001b[39m\u001b[38;5;124m\"\u001b[39m,\n\u001b[1;32m     14\u001b[0m )\n\u001b[1;32m     16\u001b[0m \u001b[38;5;66;03m# Start the assistant using vapi.start()\u001b[39;00m\n\u001b[0;32m---> 17\u001b[0m \u001b[43mclient\u001b[49m\u001b[38;5;241;43m.\u001b[39;49m\u001b[43mstart\u001b[49m(assistant_model)  \u001b[38;5;66;03m# This will start the assistant and begin listening for queries\u001b[39;00m\n\u001b[1;32m     19\u001b[0m \u001b[38;5;28mprint\u001b[39m(\u001b[38;5;124m\"\u001b[39m\u001b[38;5;124mAssistant started. Type \u001b[39m\u001b[38;5;124m'\u001b[39m\u001b[38;5;124mexit\u001b[39m\u001b[38;5;124m'\u001b[39m\u001b[38;5;124m to end the conversation.\u001b[39m\u001b[38;5;124m\"\u001b[39m)\n\u001b[1;32m     21\u001b[0m \u001b[38;5;66;03m# Simulate a simple chat loop (example, not blocking in real-world scenarios)\u001b[39;00m\n",
      "\u001b[0;31mAttributeError\u001b[0m: 'Vapi' object has no attribute 'start'"
     ]
    }
   ],
   "source": [
    "import os\n",
    "from vapi import Vapi, OpenAiModel\n",
    "\n",
    "# Initialize VAPI client\n",
    "api_key = os.getenv(\"VAPI_API_KEY\")\n",
    "client = Vapi(token=api_key)\n",
    "\n",
    "# Define the assistant model and configuration\n",
    "assistant_model = OpenAiModel(\n",
    "    assistant_id=\"your_assistant_id_here\",\n",
    "    messages=[{\"role\": \"system\", \"content\": \"You are a helpful assistant.\"}],\n",
    "    provider=\"openai\",\n",
    "    model=\"gpt-4\",\n",
    ")\n",
    "\n",
    "# Start the assistant using vapi.start()\n",
    "client.start(assistant_model)  # This will start the assistant and begin listening for queries\n",
    "\n",
    "print(\"Assistant started. Type 'exit' to end the conversation.\")\n",
    "\n",
    "# Simulate a simple chat loop (example, not blocking in real-world scenarios)\n",
    "while True:\n",
    "    user_input = input(\"You: \")\n",
    "    if user_input.lower() == \"exit\":\n",
    "        print(\"Ending the chat.\")\n",
    "        break\n",
    "    \n",
    "    # Here you would send the input to the assistant\n",
    "    response = client.assistant.chat_completions.create(\n",
    "        assistant_id=\"your_assistant_id_here\", \n",
    "        messages=[{\"role\": \"user\", \"content\": user_input}]\n",
    "    )\n",
    "    print(f\"Assistant: {response['choices'][0]['message']['content']}\")\n"
   ]
  },
  {
   "cell_type": "code",
   "execution_count": 25,
   "metadata": {},
   "outputs": [
    {
     "ename": "AttributeError",
     "evalue": "module 'vapi' has no attribute 'start'",
     "output_type": "error",
     "traceback": [
      "\u001b[0;31m---------------------------------------------------------------------------\u001b[0m",
      "\u001b[0;31mAttributeError\u001b[0m                            Traceback (most recent call last)",
      "Cell \u001b[0;32mIn[25], line 3\u001b[0m\n\u001b[1;32m      1\u001b[0m \u001b[38;5;28;01mimport\u001b[39;00m \u001b[38;5;21;01mvapi\u001b[39;00m\n\u001b[0;32m----> 3\u001b[0m \u001b[38;5;28mdir\u001b[39m(\u001b[43mvapi\u001b[49m\u001b[38;5;241;43m.\u001b[39;49m\u001b[43mstart\u001b[49m())\n",
      "\u001b[0;31mAttributeError\u001b[0m: module 'vapi' has no attribute 'start'"
     ]
    }
   ],
   "source": [
    "from vapi import Vapi\n",
    "\n",
    "Vapi.start"
   ]
  },
  {
   "cell_type": "code",
   "execution_count": null,
   "metadata": {},
   "outputs": [],
   "source": []
  }
 ],
 "metadata": {
  "kernelspec": {
   "display_name": "atomic_user",
   "language": "python",
   "name": "python3"
  },
  "language_info": {
   "codemirror_mode": {
    "name": "ipython",
    "version": 3
   },
   "file_extension": ".py",
   "mimetype": "text/x-python",
   "name": "python",
   "nbconvert_exporter": "python",
   "pygments_lexer": "ipython3",
   "version": "3.12.2"
  }
 },
 "nbformat": 4,
 "nbformat_minor": 2
}
